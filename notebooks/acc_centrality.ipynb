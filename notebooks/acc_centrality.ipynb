{
 "cells": [
  {
   "cell_type": "code",
   "execution_count": 53,
   "metadata": {},
   "outputs": [],
   "source": [
    "import numpy as np\n",
    "import networkx as nx\n",
    "from copy import deepcopy\n",
    "import scipy as sp"
   ]
  },
  {
   "cell_type": "code",
   "execution_count": 2,
   "metadata": {},
   "outputs": [
    {
     "data": {
      "text/plain": [
       "(2283, 2)"
      ]
     },
     "execution_count": 2,
     "metadata": {},
     "output_type": "execute_result"
    }
   ],
   "source": [
    "path = \"../OUT/graphs/acc.npz\"\n",
    "edges = np.load(path)[\"edges\"].T\n",
    "edges.shape"
   ]
  },
  {
   "cell_type": "code",
   "execution_count": 3,
   "metadata": {},
   "outputs": [],
   "source": [
    "G = nx.Graph([tuple(e) for e in edges])"
   ]
  },
  {
   "cell_type": "code",
   "execution_count": 4,
   "metadata": {},
   "outputs": [],
   "source": [
    "G_adj_matrix = nx.linalg.graphmatrix.adjacency_matrix(G)"
   ]
  },
  {
   "cell_type": "code",
   "execution_count": 5,
   "metadata": {},
   "outputs": [],
   "source": [
    "A = G_adj_matrix.todense()"
   ]
  },
  {
   "cell_type": "code",
   "execution_count": 82,
   "metadata": {},
   "outputs": [
    {
     "name": "stderr",
     "output_type": "stream",
     "text": [
      "/var/folders/md/q2tfblls26bglzyrcnsctq_m0000gn/T/ipykernel_9668/3192466613.py:7: FutureWarning: `rcond` parameter will change to the default of machine precision times ``max(M, N)`` where M and N are the input matrix dimensions.\n",
      "To use the future default and silence this warning we advise to pass `rcond=None`, to keep using the old, explicitly pass `rcond=-1`.\n",
      "  C_katz_ar_our_lstsq, _, _, _ = np.linalg.lstsq(M, f)\n"
     ]
    }
   ],
   "source": [
    "n = A.shape[0]\n",
    "I = np.identity(n)\n",
    "alpha = 0.02\n",
    "beta = 1.0\n",
    "M = I - beta * A \n",
    "f = np.matmul(alpha * A, np.ones((n, 1)))\n",
    "C_katz_ar_our_lstsq, _, _, _ = np.linalg.lstsq(M, f)\n",
    "C_katz_ar_our_solve = np.linalg.solve(M, f)\n",
    "# C_katz_ar_our_solve = sp.sparse.linalg.eigsh(M, f)"
   ]
  },
  {
   "cell_type": "code",
   "execution_count": 83,
   "metadata": {},
   "outputs": [],
   "source": [
    "SSP = nx.algorithms.shortest_paths.weighted.single_source_dijkstra_path_length(G, 695)"
   ]
  },
  {
   "cell_type": "code",
   "execution_count": 119,
   "metadata": {},
   "outputs": [],
   "source": [
    "C_katz = nx.algorithms.centrality.katz_centrality_numpy(G, alpha=0.23, beta=0.85)"
   ]
  },
  {
   "cell_type": "code",
   "execution_count": 120,
   "metadata": {},
   "outputs": [],
   "source": [
    "C_eig = nx.algorithms.centrality.eigenvector_centrality_numpy(G)"
   ]
  },
  {
   "cell_type": "code",
   "execution_count": 121,
   "metadata": {},
   "outputs": [],
   "source": [
    "C_pr = nx.algorithms.link_analysis.pagerank_alg.pagerank(G)"
   ]
  },
  {
   "cell_type": "code",
   "execution_count": 122,
   "metadata": {},
   "outputs": [],
   "source": [
    "C_katz_ar = np.array([C_katz[i] for i in range(len(C_katz))])\n",
    "C_pr_ar = np.array([C_pr[i] for i in range(len(C_pr))])\n",
    "C_eig_ar = np.array([C_eig[i] for i in range(len(C_eig))])\n",
    "SSP_ar = np.array([SSP[i] for i in range(len(SSP))])"
   ]
  },
  {
   "cell_type": "code",
   "execution_count": 123,
   "metadata": {},
   "outputs": [],
   "source": [
    "C = np.array([C_katz_ar, C_pr_ar, C_eig_ar, np.array(C_katz_ar_our_solve).flatten()])"
   ]
  },
  {
   "cell_type": "code",
   "execution_count": 124,
   "metadata": {},
   "outputs": [],
   "source": [
    "# fitting\n",
    "C_fit = np.copy(C)\n",
    "C_fit[0] = (C_fit[0] - C_fit[0].min()) / (C_fit[0].max() - C_fit[0].min())\n",
    "C_fit[1] = (C_fit[1] - C_fit[1].min()) / (C_fit[1].max() - C_fit[1].min())\n",
    "C_fit[2] = (C_fit[2] - C_fit[2].min()) / (C_fit[2].max() - C_fit[2].min())\n",
    "C_fit[3] = (C_fit[3] - C_fit[3].min()) / (C_fit[3].max() - C_fit[3].min())\n",
    "SSP_fit = np.copy(SSP_ar)\n",
    "SSP_fit = (SSP_fit - SSP_fit.min()) / (SSP_fit.max() - SSP_fit.min())"
   ]
  },
  {
   "cell_type": "code",
   "execution_count": 125,
   "metadata": {},
   "outputs": [],
   "source": [
    "path_out = \"../OUT/graphs/acc_cen.npz\"\n",
    "np.savez_compressed(path_out, C=C, C_fit=C_fit, SSP_fit=SSP_fit, SSP=SSP)"
   ]
  },
  {
   "cell_type": "code",
   "execution_count": null,
   "metadata": {},
   "outputs": [],
   "source": []
  }
 ],
 "metadata": {
  "interpreter": {
   "hash": "e367c233802f5ecadde18f1ed507243237ae828f9c4c8904ee1409ee116e2af6"
  },
  "kernelspec": {
   "display_name": "Python 3.8.5 64-bit ('scds': conda)",
   "language": "python",
   "name": "python3"
  },
  "language_info": {
   "codemirror_mode": {
    "name": "ipython",
    "version": 3
   },
   "file_extension": ".py",
   "mimetype": "text/x-python",
   "name": "python",
   "nbconvert_exporter": "python",
   "pygments_lexer": "ipython3",
   "version": "3.8.5"
  },
  "orig_nbformat": 4
 },
 "nbformat": 4,
 "nbformat_minor": 2
}
