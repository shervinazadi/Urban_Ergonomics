{
 "cells": [
  {
   "cell_type": "code",
   "execution_count": 1,
   "metadata": {},
   "outputs": [],
   "source": [
    "import numpy as np\n",
    "from scipy.sparse.linalg import eigsh\n",
    "import networkx as nx"
   ]
  },
  {
   "cell_type": "code",
   "execution_count": 2,
   "metadata": {},
   "outputs": [
    {
     "data": {
      "text/plain": [
       "(960523, 2)"
      ]
     },
     "execution_count": 2,
     "metadata": {},
     "output_type": "execute_result"
    }
   ],
   "source": [
    "path = \"../OUT/graphs/vis.npz\"\n",
    "edges = np.load(path)[\"edges\"].T\n",
    "edges.shape"
   ]
  },
  {
   "cell_type": "code",
   "execution_count": 3,
   "metadata": {},
   "outputs": [],
   "source": [
    "G = nx.Graph([tuple(e) for e in edges])"
   ]
  },
  {
   "cell_type": "code",
   "execution_count": 4,
   "metadata": {},
   "outputs": [
    {
     "data": {
      "text/plain": [
       "(4477, 4477)"
      ]
     },
     "execution_count": 4,
     "metadata": {},
     "output_type": "execute_result"
    }
   ],
   "source": [
    "G_adj_matrix = nx.linalg.graphmatrix.adjacency_matrix(G).astype(float)\n",
    "G_adj_matrix.shape"
   ]
  },
  {
   "cell_type": "code",
   "execution_count": 5,
   "metadata": {},
   "outputs": [],
   "source": [
    "eigval = eigsh(G_adj_matrix, k=1, return_eigenvectors=False)"
   ]
  },
  {
   "cell_type": "code",
   "execution_count": 6,
   "metadata": {},
   "outputs": [],
   "source": [
    "C_eig = {i:0.0 for i in range(edges.max()+1)}\n",
    "# C_eig = nx.algorithms.centrality.eigenvector_centrality_numpy(G)"
   ]
  },
  {
   "cell_type": "code",
   "execution_count": 7,
   "metadata": {},
   "outputs": [],
   "source": [
    "C_pr = nx.algorithms.link_analysis.pagerank_alg.pagerank(G, alpha=0.85)"
   ]
  },
  {
   "cell_type": "code",
   "execution_count": 8,
   "metadata": {},
   "outputs": [],
   "source": [
    "# C_katz = nx.algorithms.centrality.katz_centrality_numpy(G, alpha= float(1/eigval - 1e-7), beta=0.1)\n",
    "C_katz = nx.algorithms.centrality.katz_centrality_numpy(G, alpha= float(1/eigval * 0.95))"
   ]
  },
  {
   "cell_type": "code",
   "execution_count": 9,
   "metadata": {},
   "outputs": [],
   "source": [
    "# C_katz_ar = np.array(list(C_katz.items())).T\n",
    "# C_katz_order = np.sort(C_katz_ar[0]).astype(int)\n",
    "\n",
    "# C_pr_ar = np.array(list(C_pr.items())).T\n",
    "# C_pr_order = np.sort(C_pr_ar[0]).astype(int)\n",
    "\n",
    "# C_eig_ar = np.array(list(C_eig.items())).T\n",
    "# C_eig_order = np.sort(C_eig_ar[0]).astype(int)"
   ]
  },
  {
   "cell_type": "code",
   "execution_count": 10,
   "metadata": {},
   "outputs": [],
   "source": [
    "C_katz_ar = np.array([C_katz[i] for i in range(len(C_katz))])\n",
    "C_pr_ar = np.array([C_pr[i] for i in range(len(C_pr))])\n",
    "C_eig_ar = np.array([C_eig[i] for i in range(len(C_eig))])"
   ]
  },
  {
   "cell_type": "code",
   "execution_count": 11,
   "metadata": {},
   "outputs": [],
   "source": [
    "# C = np.array([C_katz_ar, C_pr_ar])\n",
    "C = np.array([C_katz_ar, C_pr_ar, C_eig_ar])"
   ]
  },
  {
   "cell_type": "code",
   "execution_count": null,
   "metadata": {},
   "outputs": [
    {
     "name": "stderr",
     "output_type": "stream",
     "text": [
      "/var/folders/md/q2tfblls26bglzyrcnsctq_m0000gn/T/ipykernel_36646/340988768.py:5: RuntimeWarning: invalid value encountered in true_divide\n",
      "  C_fit[2] = (C_fit[2] - C_fit[2].min()) / (C_fit[2].max() - C_fit[2].min())\n"
     ]
    }
   ],
   "source": [
    "# fitting\n",
    "C_fit = np.copy(C)\n",
    "C_fit[0] = (C_fit[0] - C_fit[0].min()) / (C_fit[0].max() - C_fit[0].min())\n",
    "C_fit[1] = (C_fit[1] - C_fit[1].min()) / (C_fit[1].max() - C_fit[1].min())\n",
    "C_fit[2] = (C_fit[2] - C_fit[2].min()) / (C_fit[2].max() - C_fit[2].min())"
   ]
  },
  {
   "cell_type": "code",
   "execution_count": null,
   "metadata": {},
   "outputs": [],
   "source": [
    "path_out = \"../OUT/graphs/vis_cen.npz\"\n",
    "np.savez_compressed(path_out, C=C, C_fit=C_fit)"
   ]
  },
  {
   "cell_type": "code",
   "execution_count": null,
   "metadata": {},
   "outputs": [],
   "source": []
  }
 ],
 "metadata": {
  "interpreter": {
   "hash": "e367c233802f5ecadde18f1ed507243237ae828f9c4c8904ee1409ee116e2af6"
  },
  "kernelspec": {
   "display_name": "Python 3.8.5 64-bit ('scds': conda)",
   "language": "python",
   "name": "python3"
  },
  "language_info": {
   "codemirror_mode": {
    "name": "ipython",
    "version": 3
   },
   "file_extension": ".py",
   "mimetype": "text/x-python",
   "name": "python",
   "nbconvert_exporter": "python",
   "pygments_lexer": "ipython3",
   "version": "3.8.5"
  },
  "orig_nbformat": 4
 },
 "nbformat": 4,
 "nbformat_minor": 2
}
